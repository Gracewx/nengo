{
 "cells": [
  {
   "cell_type": "markdown",
   "metadata": {},
   "source": [
    "# Squaring the input\n",
    "\n",
    "This demo shows you how to construct a network\n",
    "that squares the value encoded in a first population\n",
    "in the output of a second population."
   ]
  },
  {
   "cell_type": "code",
   "execution_count": 1,
   "metadata": {
    "execution": {
     "iopub.execute_input": "2020-11-17T22:21:44.994528Z",
     "iopub.status.busy": "2020-11-17T22:21:44.993673Z",
     "iopub.status.idle": "2020-11-17T22:21:45.539965Z",
     "shell.execute_reply": "2020-11-17T22:21:45.539262Z"
    }
   },
   "outputs": [],
   "source": [
    "%matplotlib inline\n",
    "import matplotlib.pyplot as plt\n",
    "import numpy as np\n",
    "\n",
    "import nengo"
   ]
  },
  {
   "cell_type": "markdown",
   "metadata": {},
   "source": [
    "## Step 1: Create the Model\n",
    "\n",
    "The model is comprised of an input ensemble ('A')\n",
    "and an output ensemble ('B'),\n",
    "from which the squared value of the input signal can be decoded."
   ]
  },
  {
   "cell_type": "code",
   "execution_count": 2,
   "metadata": {
    "execution": {
     "iopub.execute_input": "2020-11-17T22:21:45.546282Z",
     "iopub.status.busy": "2020-11-17T22:21:45.545737Z",
     "iopub.status.idle": "2020-11-17T22:21:45.549193Z",
     "shell.execute_reply": "2020-11-17T22:21:45.549705Z"
    }
   },
   "outputs": [],
   "source": [
    "# Create the model object\n",
    "model = nengo.Network(label=\"Squaring\")\n",
    "with model:\n",
    "    # Create two ensembles of 100 leaky-integrate-and-fire neurons\n",
    "    A = nengo.Ensemble(100, dimensions=1)\n",
    "    B = nengo.Ensemble(100, dimensions=1)"
   ]
  },
  {
   "cell_type": "markdown",
   "metadata": {},
   "source": [
    "## Step 2: Provide Input to the Model\n",
    "\n",
    "A single input signal (a sine wave) will be used\n",
    "to drive the neural activity in ensemble A."
   ]
  },
  {
   "cell_type": "code",
   "execution_count": 3,
   "metadata": {
    "execution": {
     "iopub.execute_input": "2020-11-17T22:21:45.559501Z",
     "iopub.status.busy": "2020-11-17T22:21:45.557778Z",
     "iopub.status.idle": "2020-11-17T22:21:45.560092Z",
     "shell.execute_reply": "2020-11-17T22:21:45.560518Z"
    }
   },
   "outputs": [],
   "source": [
    "with model:\n",
    "    # Create an input node that represents a sine wave\n",
    "    sin = nengo.Node(np.sin)\n",
    "\n",
    "    # Connect the input node to ensemble A\n",
    "    nengo.Connection(sin, A)\n",
    "\n",
    "    # Define the squaring function\n",
    "    def square(x):\n",
    "        return x[0] * x[0]\n",
    "\n",
    "    # Connection ensemble A to ensemble B\n",
    "    nengo.Connection(A, B, function=square)"
   ]
  },
  {
   "cell_type": "markdown",
   "metadata": {},
   "source": [
    "## Step 3: Probe the Output\n",
    "\n",
    "Let's collect output data from each ensemble and output."
   ]
  },
  {
   "cell_type": "code",
   "execution_count": 4,
   "metadata": {
    "execution": {
     "iopub.execute_input": "2020-11-17T22:21:45.567960Z",
     "iopub.status.busy": "2020-11-17T22:21:45.566358Z",
     "iopub.status.idle": "2020-11-17T22:21:45.568606Z",
     "shell.execute_reply": "2020-11-17T22:21:45.569030Z"
    }
   },
   "outputs": [],
   "source": [
    "with model:\n",
    "    sin_probe = nengo.Probe(sin)\n",
    "    A_probe = nengo.Probe(A, synapse=0.01)\n",
    "    B_probe = nengo.Probe(B, synapse=0.01)"
   ]
  },
  {
   "cell_type": "markdown",
   "metadata": {},
   "source": [
    "## Step 4: Run the Model"
   ]
  },
  {
   "cell_type": "code",
   "execution_count": 5,
   "metadata": {
    "execution": {
     "iopub.execute_input": "2020-11-17T22:21:45.575414Z",
     "iopub.status.busy": "2020-11-17T22:21:45.574567Z",
     "iopub.status.idle": "2020-11-17T22:21:46.546866Z",
     "shell.execute_reply": "2020-11-17T22:21:46.547309Z"
    }
   },
   "outputs": [],
   "source": [
    "# Create the simulator\n",
    "with nengo.Simulator(model) as sim:\n",
    "    # Run the simulator for 5 seconds\n",
    "    sim.run(5)"
   ]
  },
  {
   "cell_type": "code",
   "execution_count": 6,
   "metadata": {
    "execution": {
     "iopub.execute_input": "2020-11-17T22:21:46.554746Z",
     "iopub.status.busy": "2020-11-17T22:21:46.553845Z",
     "iopub.status.idle": "2020-11-17T22:21:46.796358Z",
     "shell.execute_reply": "2020-11-17T22:21:46.796790Z"
    }
   },
   "outputs": [
    {
     "data": {
      "text/plain": [
       "(-1.2, 1.2)"
      ]
     },
     "execution_count": 1,
     "metadata": {},
     "output_type": "execute_result"
    },
    {
     "data": {
      "image/png": "[encoded data removed]",
      "text/plain": [
       "<Figure size 432x288 with 1 Axes>"
      ]
     },
     "metadata": {
      "needs_background": "light"
     },
     "output_type": "display_data"
    }
   ],
   "source": [
    "# Plot the input signal and decoded ensemble values\n",
    "plt.figure()\n",
    "plt.plot(sim.trange(), sim.data[A_probe], label=\"Decoded Ensemble A\")\n",
    "plt.plot(sim.trange(), sim.data[B_probe], label=\"Decoded Ensemble B\")\n",
    "plt.plot(\n",
    "    sim.trange(), sim.data[sin_probe], label=\"Input Sine Wave\", color=\"k\", linewidth=2.0\n",
    ")\n",
    "plt.legend(loc=\"best\")\n",
    "plt.ylim(-1.2, 1.2)"
   ]
  },
  {
   "cell_type": "markdown",
   "metadata": {},
   "source": [
    "The plotted output of ensemble B should show\n",
    "the decoded squared value of the input sine wave."
   ]
  }
 ],
 "metadata": {
  "language_info": {
   "codemirror_mode": {
    "name": "ipython",
    "version": 3
   },
   "file_extension": ".py",
   "mimetype": "text/x-python",
   "name": "python",
   "nbconvert_exporter": "python",
   "pygments_lexer": "ipython3",
   "version": "3.6.7"
  }
 },
 "nbformat": 4,
 "nbformat_minor": 2
}
